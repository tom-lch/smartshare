{
 "cells": [
  {
   "cell_type": "code",
   "execution_count": 3,
   "metadata": {},
   "outputs": [
    {
     "name": "stdout",
     "output_type": "stream",
     "text": [
      "SELECT \"t1\".\"id\", \"t1\".\"gen_time\", \"t1\".\"status\", \"t1\".\"delete_status\", \"t1\".\"version\", \"t1\".\"stocks_base_id\", \"t1\".\"ts_code\", \"t1\".\"trade_date\", \"t1\".\"open\", \"t1\".\"high\", \"t1\".\"low\", \"t1\".\"close\", \"t1\".\"pre_close\", \"t1\".\"change\", \"t1\".\"pct_chg\", \"t1\".\"vol\", \"t1\".\"amount\" FROM \"stock_daily\" AS \"t1\" WHERE ((\"t1\".\"ts_code\" = '300059.SZ') AND (\"t1\".\"trade_date\" BETWEEN '2020-01-01' AND '2023-03-20'))\n"
     ]
    }
   ],
   "source": [
    "from addons.stock_manage.models.stock_manage import StocksBase\n",
    "from addons.stock_manage.models.stock_manage import StockDaily\n",
    "\n",
    "res = (StockDaily.select().\n",
    "        where((StockDaily.ts_code == \"300059.SZ\") & \n",
    "        (StockDaily.trade_date.between('2020-01-01', '2023-03-20'))))\n",
    "print(res)"
   ]
  },
  {
   "cell_type": "code",
   "execution_count": 8,
   "metadata": {},
   "outputs": [],
   "source": [
    "import pandas as pd\n",
    "import numpy as np\n",
    "import matplotlib.pyplot as plt\n",
    "import seaborn as sns\n",
    "import sklearn\n",
    "\n",
    "columns = [\n",
    "    'id',\n",
    "    'gen_time' ,\n",
    "    'status' ,\n",
    "    'delete_status',\n",
    "    'version' ,\n",
    "    'stocks_base_id',\n",
    "    'ts_code' ,\n",
    "    'trade_date' ,\n",
    "    'open',\n",
    "    'high' ,\n",
    "    'low' ,\n",
    "    'close',\n",
    "    'pre_close',\n",
    "    'change',\n",
    "    'pct_chg',\n",
    "    'vol',\n",
    "    'amount',\n",
    "]\n",
    "stock_df = pd.DataFrame(list(res))\n",
    "# stock_df.set_index(columns, inplace=True, drop=False)\n"
   ]
  },
  {
   "cell_type": "code",
   "execution_count": 12,
   "metadata": {},
   "outputs": [
    {
     "name": "stdout",
     "output_type": "stream",
     "text": [
      "         0\n",
      "0  4981050\n",
      "1  4981049\n",
      "2  4981048\n",
      "3  4981047\n",
      "4  4981046\n",
      "4981050\n"
     ]
    }
   ],
   "source": []
  }
 ],
 "metadata": {
  "kernelspec": {
   "display_name": "smart",
   "language": "python",
   "name": "python3"
  },
  "language_info": {
   "codemirror_mode": {
    "name": "ipython",
    "version": 3
   },
   "file_extension": ".py",
   "mimetype": "text/x-python",
   "name": "python",
   "nbconvert_exporter": "python",
   "pygments_lexer": "ipython3",
   "version": "3.10.4"
  },
  "orig_nbformat": 4
 },
 "nbformat": 4,
 "nbformat_minor": 2
}
