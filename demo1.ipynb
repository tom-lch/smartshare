{
 "cells": [
  {
   "cell_type": "code",
   "execution_count": null,
   "metadata": {},
   "outputs": [],
   "source": [
    "from addons.stock_manage.models.stock_manage import StocksBase\n",
    "from addons.stock_manage.models.stock_manage import StockDaily\n",
    "\n",
    "res = (StockDaily.select(StockDaily.ts_code, \n",
    "                         StockDaily.trade_date, \n",
    "                         StockDaily.open,\n",
    "                        StockDaily.high, \n",
    "                        StockDaily.low, \n",
    "                        StockDaily.close, \n",
    "                        StockDaily.pre_close, \n",
    "                        StockDaily.pct_chg,\n",
    "                        StockDaily.change,StockDaily.vol, StockDaily.amount).\n",
    "        where((StockDaily.ts_code == \"300059.SZ\") & \n",
    "        (StockDaily.trade_date.between('2020-01-01', '2023-03-23'))).order_by(StockDaily.trade_date))\n",
    "print(res)"
   ]
  },
  {
   "cell_type": "code",
   "execution_count": null,
   "metadata": {},
   "outputs": [],
   "source": [
    "import pandas as pd\n",
    "import numpy as np\n",
    "import matplotlib.pyplot as plt\n",
    "import seaborn as sns\n",
    "import sklearn\n",
    "\n",
    "stock_df = pd.DataFrame(list(res.dicts()))\n"
   ]
  },
  {
   "cell_type": "code",
   "execution_count": null,
   "metadata": {},
   "outputs": [],
   "source": [
    "stock_df.head()\n"
   ]
  },
  {
   "cell_type": "code",
   "execution_count": null,
   "metadata": {},
   "outputs": [],
   "source": [
    "stock_df = stock_df.set_index('trade_date',drop=False, append=False, inplace=False, verify_integrity=False)"
   ]
  },
  {
   "cell_type": "code",
   "execution_count": null,
   "metadata": {},
   "outputs": [],
   "source": [
    "# stock_df_signal = pd.DataFrame(index = stock_df.index)\n",
    "# stock_df_signal[\"price\"] = stock_df[\"close\"]\n",
    "# stock_df_signal[\"diff\"] = stock_df_signal[\"price\"].diff()\n",
    "# stock_df_signal = stock_df_signal.fillna(0)\n",
    "# stock_df_signal[\"signal\"] = np.where(stock_df_signal['diff'] >= 0, 0, 1)\n",
    "# stock_df_signal[\"order\"] = stock_df_signal['signal'].diff() * 100\n",
    "# stock_df_signal.head()\n",
    "stock_df.head()"
   ]
  },
  {
   "cell_type": "code",
   "execution_count": null,
   "metadata": {},
   "outputs": [],
   "source": [
    "#首先导入鸢尾花数据载入工具\n",
    "from sklearn.model_selection import train_test_split\n",
    "#导入KNN分类模型\n",
    "from sklearn.neighbors import KNeighborsClassifier, KNeighborsRegressor\n",
    "#为了方便可视化，我们再导入matplotlib和seaborn\n",
    "import matplotlib.pyplot as plt\n",
    "import seaborn as sns"
   ]
  },
  {
   "cell_type": "code",
   "execution_count": null,
   "metadata": {},
   "outputs": [],
   "source": [
    "max_min_scaler = lambda x: (x-np.min(x)) / (np.max(x) - np.min(x))"
   ]
  },
  {
   "cell_type": "code",
   "execution_count": null,
   "metadata": {},
   "outputs": [],
   "source": [
    "#由于我们通过股票价格变化的情况对数据进行了分类，即1代表价格上涨，–1代表价格下跌或不变，这个交易条件可以用来训练分类模型\n",
    "def classification_tc(df: pd.DataFrame):\n",
    "    df[\"Open-Close\"] = df[\"open\"] - df[\"close\"]\n",
    "    df[\"High-Low\"] = df[\"high\"] - df[\"low\"]\n",
    "    df[\"Val_Norm\"] = df[[\"vol\"]].apply(max_min_scaler)\n",
    "    df[\"Amount_Norm\"] = df[[\"amount\"]].apply(max_min_scaler)\n",
    "    # 次日收盘价高于当日收盘价\n",
    "    df[\"target\"] = np.where(df[\"close\"].shift(-1) > df[\"close\"], 1, -1)\n",
    "    df.fillna(0, inplace=True)\n",
    "    X = df[['Open-Close', 'High-Low', 'Val_Norm', 'Amount_Norm']]\n",
    "    y = df[\"target\"]\n",
    "    return (X, y)\n",
    "\n",
    "#使用classification_tc函数生成数据集的特征与目标\n",
    "X, y = classification_tc(stock_df)\n",
    "#将数据集拆分为训练集与验证集\n",
    "X_train, X_test, y_train, y_test = train_test_split(X, y, train_size=0.8)\n",
    "#创建一个KNN实例，n_neighbors取95\n",
    "knn_clf = KNeighborsClassifier(n_neighbors=95)\n",
    "#使用KNN拟合训练集\n",
    "knn_clf.fit(X_train, y_train)\n",
    "#输出模型在训练集中的准确率\n",
    "print(knn_clf.score(X_train, y_train))\n",
    "#输出模型在验证集中的准确率\n",
    "print(knn_clf.score(X_test, y_test))\n",
    "\n",
    "stock_df['Predict_Signal'] = knn_clf.predict(X)\n",
    "#在数据集中添加一个字段，用当日收盘价除以前一日收盘价，并取其自然对数\n",
    "stock_df['Return'] = np.log(stock_df['close']/stock_df['pre_close'])\n",
    "#查看一下\n",
    "print(stock_df.tail())\n"
   ]
  },
  {
   "cell_type": "code",
   "execution_count": null,
   "metadata": {},
   "outputs": [],
   "source": [
    "# # 如果要创建用于回归模型的交易条件，则可以对代码稍做调整，将次日收盘价减去当日收盘价的差作为预测的目标\n",
    "# # 这样就可以训练回归模型，使其预测次日股价上涨（或下跌）的幅度。\n",
    "# def regression_tc(df: pd.DataFrame):\n",
    "#     df[\"Open-Close\"] = df[\"open\"] - df[\"close\"]\n",
    "#     df[\"High-Low\"] = df[\"high\"] - df[\"low\"]\n",
    "#     df[\"target\"] = df[\"close\"].shift(-1) - df[\"close\"]\n",
    "#     df[\"Val_Norm\"] = df[[\"vol\"]].apply(max_min_scaler)\n",
    "#     df[\"Amount_Norm\"] = df[[\"amount\"]].apply(max_min_scaler)\n",
    "#     df.fillna(0, inplace=True)\n",
    "#     X = df[['Open-Close', 'High-Low', 'Val_Norm', 'Amount_Norm']]\n",
    "#     y = df[\"target\"]\n",
    "#     return (X, y)\n",
    "# #创建一个KNN实例，n_neighbors取95\n",
    "# X, y = regression_tc(stock_df)\n",
    "# #将数据集拆分为训练集与验证集\n",
    "# X_train, X_test, y_train, y_test = train_test_split(X, y, train_size=0.8)\n",
    "# knn_reg = KNeighborsRegressor(n_neighbors=95)\n",
    "# #使用KNN拟合训练集\n",
    "# knn_reg.fit(X_train, y_train)\n",
    "# #输出模型在训练集中的准确率\n",
    "# print(knn_reg.score(X_train, y_train))\n",
    "# #输出模型在验证集中的准确率\n",
    "# print(knn_reg.score(X_test, y_test))\n",
    "\n",
    "# # 使用模型预测作为交易信号（trading signal）来进行交易，并且与基准收益进行对比。\n",
    "# # 首先我们要计算出基准收益和基于模型预测的策略所带来的收益。\n",
    "# #使用KNN模型预测每日股票的涨跌，保存为Predict_Signal\n",
    "# stock_df['Predict_Signal'] = knn_clf.predict(X)\n",
    "# #在数据集中添加一个字段，用当日收盘价除以前一日收盘价，并取其自然对数\n",
    "# stock_df['Return'] = np.log(stock_df['close']/stock_df['pre_close'])\n",
    "# #查看一下\n",
    "# print(stock_df.tail())"
   ]
  },
  {
   "cell_type": "code",
   "execution_count": null,
   "metadata": {},
   "outputs": [],
   "source": [
    "# 计算一下累计的基准收益。\n",
    "def cum_return(df, split_value):\n",
    "    cum_return = df[split_value:]['Return'].cumsum() * 100\n",
    "    return cum_return\n",
    "\n",
    "\n",
    "#计算基于KNN模型预测的交易信号所进行的策略交易带来的收益\n",
    "def stragegy_return(df, split_value):\n",
    "    df[\"Strategy_Return\"] = df[\"Return\"] * df[\"Predict_Signal\"].shift(1)\n",
    "    # 将每日策略交易的收益加并乘100\n",
    "    cum_strategy_return = df[split_value:][\"Strategy_Return\"].cumsum() * 100\n",
    "    return cum_strategy_return"
   ]
  },
  {
   "cell_type": "code",
   "execution_count": null,
   "metadata": {},
   "outputs": [],
   "source": [
    "#定义一个进行可视化的函数\n",
    "def plot_chart(cum_return, cum_strategy_return, symbol):\n",
    "    plt.figure(figsize=(9, 6))\n",
    "    plt.plot(cum_return, '--', label='%s Return'%symbol)\n",
    "    plt.plot(cum_strategy_return, label='Strategy Return')\n",
    "    plt.legend()\n",
    "    plt.show()"
   ]
  },
  {
   "cell_type": "code",
   "execution_count": null,
   "metadata": {},
   "outputs": [],
   "source": [
    "cum_return = cum_return(stock_df, len(X_train))\n",
    "cum_strategy_return = stragegy_return(stock_df, len(X_train))\n",
    "plot_chart(cum_return, cum_strategy_return, \"zgpa\")"
   ]
  },
  {
   "cell_type": "code",
   "execution_count": null,
   "metadata": {},
   "outputs": [],
   "source": [
    "\n"
   ]
  },
  {
   "cell_type": "code",
   "execution_count": null,
   "metadata": {},
   "outputs": [],
   "source": []
  },
  {
   "cell_type": "code",
   "execution_count": null,
   "metadata": {},
   "outputs": [],
   "source": []
  },
  {
   "cell_type": "code",
   "execution_count": null,
   "metadata": {},
   "outputs": [],
   "source": []
  }
 ],
 "metadata": {
  "kernelspec": {
   "display_name": "smart",
   "language": "python",
   "name": "python3"
  },
  "language_info": {
   "codemirror_mode": {
    "name": "ipython",
    "version": 3
   },
   "file_extension": ".py",
   "mimetype": "text/x-python",
   "name": "python",
   "nbconvert_exporter": "python",
   "pygments_lexer": "ipython3",
   "version": "3.10.4"
  },
  "orig_nbformat": 4
 },
 "nbformat": 4,
 "nbformat_minor": 2
}
