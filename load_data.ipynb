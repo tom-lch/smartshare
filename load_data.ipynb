{
 "cells": [
  {
   "cell_type": "code",
   "execution_count": 1,
   "metadata": {},
   "outputs": [
    {
     "name": "stdout",
     "output_type": "stream",
     "text": [
      "       ts_code  trade_date   open   high    low  close  pre_close  pct_chg  \\\n",
      "175  000001.SZ  2023-01-17  15.13  15.18  14.77  14.97      15.08  -0.7294   \n",
      "176  000001.SZ  2023-01-18  14.95  15.18  14.91  15.11      14.97   0.9352   \n",
      "177  000001.SZ  2023-01-19  15.13  15.25  14.87  15.09      15.11  -0.1324   \n",
      "178  000001.SZ  2023-01-20  15.16  15.24  15.00  15.13      15.09   0.2651   \n",
      "179  000001.SZ  2023-01-30  15.60  15.74  14.89  15.15      15.13   0.1322   \n",
      "\n",
      "     change         vol  ...     ema_30      ema42  buy_signal  sell_signal  \\\n",
      "175   -0.11   935834.54  ...  13.763968  14.509597           1            0   \n",
      "176    0.14   718434.03  ...  13.850808  14.666051           1            0   \n",
      "177   -0.02   641875.20  ...  13.930756  14.812596           1            0   \n",
      "178    0.04   608590.08  ...  14.008127  14.951877           1            0   \n",
      "179    0.02  1374317.50  ...  14.081796  15.081636           1            0   \n",
      "\n",
      "     Open-Close  High-Low  Val_Norm  Amount_Norm  target_cls  target_reg  \n",
      "175        0.16      0.41  0.120115     0.165680           1        0.14  \n",
      "176       -0.16      0.27  0.069954     0.109314          -1       -0.02  \n",
      "177        0.04      0.38  0.052289     0.087759           1        0.04  \n",
      "178        0.03      0.24  0.044609     0.079902           1        0.02  \n",
      "179        0.45      0.85  0.221287     0.291952          -1        0.00  \n",
      "\n",
      "[5 rows x 23 columns]\n"
     ]
    }
   ],
   "source": [
    "from addons.stock_manage.service import DataLoader\n",
    "d = DataLoader('000001.SZ', '2000-01-01', '2023-01-31')\n",
    "res = d.get_stack_daily()\n",
    "d.add_ema(res)\n",
    "d.add_target(res)\n",
    "print(res.tail())\n"
   ]
  },
  {
   "cell_type": "code",
   "execution_count": 2,
   "metadata": {},
   "outputs": [],
   "source": [
    "from sklearn.neighbors import KNeighborsClassifier, KNeighborsRegressor\n",
    "from sklearn.model_selection import train_test_split\n",
    "import matplotlib.pyplot as plt\n",
    "import seaborn as sns\n",
    "import numpy as np\n",
    "import pandas as pd"
   ]
  },
  {
   "cell_type": "code",
   "execution_count": 3,
   "metadata": {},
   "outputs": [
    {
     "name": "stdout",
     "output_type": "stream",
     "text": [
      "0.5555555555555556\n",
      "0.5\n",
      "       ts_code  trade_date   open   high    low  close  pre_close  pct_chg  \\\n",
      "175  000001.SZ  2023-01-17  15.13  15.18  14.77  14.97      15.08  -0.7294   \n",
      "176  000001.SZ  2023-01-18  14.95  15.18  14.91  15.11      14.97   0.9352   \n",
      "177  000001.SZ  2023-01-19  15.13  15.25  14.87  15.09      15.11  -0.1324   \n",
      "178  000001.SZ  2023-01-20  15.16  15.24  15.00  15.13      15.09   0.2651   \n",
      "179  000001.SZ  2023-01-30  15.60  15.74  14.89  15.15      15.13   0.1322   \n",
      "\n",
      "     change         vol  ...  buy_signal  sell_signal  Open-Close  High-Low  \\\n",
      "175   -0.11   935834.54  ...           1            0        0.16      0.41   \n",
      "176    0.14   718434.03  ...           1            0       -0.16      0.27   \n",
      "177   -0.02   641875.20  ...           1            0        0.04      0.38   \n",
      "178    0.04   608590.08  ...           1            0        0.03      0.24   \n",
      "179    0.02  1374317.50  ...           1            0        0.45      0.85   \n",
      "\n",
      "     Val_Norm  Amount_Norm  target_cls  target_reg  Predict_Signal    Return  \n",
      "175  0.120115     0.165680           1        0.14               1 -0.007321  \n",
      "176  0.069954     0.109314          -1       -0.02              -1  0.009309  \n",
      "177  0.052289     0.087759           1        0.04              -1 -0.001325  \n",
      "178  0.044609     0.079902           1        0.02              -1  0.002647  \n",
      "179  0.221287     0.291952          -1        0.00               1  0.001321  \n",
      "\n",
      "[5 rows x 25 columns]\n"
     ]
    }
   ],
   "source": [
    "def classification_tc(df: pd.DataFrame):\n",
    "    X = df[['Open-Close', 'High-Low', 'Val_Norm', 'Amount_Norm']]\n",
    "    y = df[\"target_cls\"]\n",
    "    return (X, y)\n",
    "X, y = classification_tc(res)\n",
    "#将数据集拆分为训练集与验证集\n",
    "X_train, X_test, y_train, y_test = train_test_split(X, y, train_size=0.8)\n",
    "#创建一个KNN实例，n_neighbors取95\n",
    "knn_clf = KNeighborsClassifier(n_neighbors=95)\n",
    "#使用KNN拟合训练集\n",
    "knn_clf.fit(X_train, y_train)\n",
    "#输出模型在训练集中的准确率\n",
    "print(knn_clf.score(X_train, y_train))\n",
    "#输出模型在验证集中的准确率\n",
    "print(knn_clf.score(X_test, y_test))\n",
    "\n",
    "res['Predict_Signal'] = knn_clf.predict(X)\n",
    "#在数据集中添加一个字段，用当日收盘价除以前一日收盘价，并取其自然对数\n",
    "res['Return'] = np.log(res['close']/res['pre_close'])\n",
    "#查看一下\n",
    "print(res.tail())"
   ]
  },
  {
   "cell_type": "code",
   "execution_count": 4,
   "metadata": {},
   "outputs": [],
   "source": [
    "import torch"
   ]
  },
  {
   "cell_type": "code",
   "execution_count": 5,
   "metadata": {},
   "outputs": [
    {
     "name": "stdout",
     "output_type": "stream",
     "text": [
      "2.0.0+cu117\n",
      "11.7\n",
      "8500\n"
     ]
    }
   ],
   "source": [
    "print(torch.__version__)\n",
    "\n",
    "print(torch.version.cuda)\n",
    "print(torch.backends.cudnn.version())"
   ]
  }
 ],
 "metadata": {
  "kernelspec": {
   "display_name": "smart",
   "language": "python",
   "name": "python3"
  },
  "language_info": {
   "codemirror_mode": {
    "name": "ipython",
    "version": 3
   },
   "file_extension": ".py",
   "mimetype": "text/x-python",
   "name": "python",
   "nbconvert_exporter": "python",
   "pygments_lexer": "ipython3",
   "version": "3.10.4"
  },
  "orig_nbformat": 4
 },
 "nbformat": 4,
 "nbformat_minor": 2
}
