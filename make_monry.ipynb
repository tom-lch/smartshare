{
 "cells": [
  {
   "cell_type": "code",
   "execution_count": 1,
   "metadata": {},
   "outputs": [],
   "source": [
    "from addons.stock_manage.service import StockDataLoader, Stocks\n",
    "import datetime\n",
    "stocks = Stocks().get_stocks()\n",
    "today = datetime.date.today()\n",
    "day = today + datetime.timedelta(days=1)\n",
    "# for stock in stocks:\n",
    "#     print(stock)\n",
    "\n"
   ]
  },
  {
   "cell_type": "code",
   "execution_count": 2,
   "metadata": {},
   "outputs": [
    {
     "name": "stdout",
     "output_type": "stream",
     "text": [
      "<bound method NDFrame.tail of               ts_code  trade_date   open   high    low  close  pre_close  \\\n",
      "trade_date                                                                 \n",
      "2011-01-25  300166.SZ  2011-01-25  53.00  55.00  47.70  47.95      55.36   \n",
      "2011-01-26  300166.SZ  2011-01-26  48.05  52.75  48.05  52.75      47.95   \n",
      "2011-01-27  300166.SZ  2011-01-27  52.49  54.92  51.30  53.78      52.75   \n",
      "2011-01-28  300166.SZ  2011-01-28  52.89  53.41  51.89  53.00      53.78   \n",
      "2011-01-31  300166.SZ  2011-01-31  52.60  55.50  52.21  55.03      53.00   \n",
      "...               ...         ...    ...    ...    ...    ...        ...   \n",
      "2023-04-06  300166.SZ  2023-04-06  13.80  14.67  13.80  13.90      14.42   \n",
      "2023-04-07  300166.SZ  2023-04-07  14.03  14.33  13.30  14.33      13.90   \n",
      "2023-04-10  300166.SZ  2023-04-10  14.00  14.00  12.72  13.13      14.33   \n",
      "2023-04-11  300166.SZ  2023-04-11  13.03  13.45  13.01  13.22      13.13   \n",
      "2023-04-12  300166.SZ  2023-04-12  13.20  13.57  13.07  13.50      13.22   \n",
      "\n",
      "            pct_chg  change         vol  ...  net_mf_amount      ema_2  \\\n",
      "trade_date                               ...                             \n",
      "2011-01-25 -13.3900   -7.41    19924.75  ...         432.73   0.000000   \n",
      "2011-01-26  10.0100    4.80    11708.66  ...         301.75  50.350000   \n",
      "2011-01-27   1.9500    1.03    14748.30  ...         299.07  52.636667   \n",
      "2011-01-28  -1.4500   -0.78     8718.44  ...           3.82  52.878889   \n",
      "2011-01-31   3.8300    2.03     8420.92  ...         108.58  54.312963   \n",
      "...             ...     ...         ...  ...            ...        ...   \n",
      "2023-04-06  -3.6061   -0.52  1976587.71  ...       54061.23  14.160860   \n",
      "2023-04-07   3.0935    0.43  1701296.81  ...       33450.74  14.273620   \n",
      "2023-04-10  -8.3740   -1.20  1744207.22  ...       35537.18  13.511207   \n",
      "2023-04-11   0.6855    0.09   981287.51  ...       16919.51  13.317069   \n",
      "2023-04-12   2.1180    0.28  1001382.01  ...       13283.10  13.439023   \n",
      "\n",
      "                ema_5     ema_30      ema42  buy_signal  sell_signal  \\\n",
      "trade_date                                                             \n",
      "2011-01-25   0.000000   0.000000   0.000000           0            0   \n",
      "2011-01-26   0.000000   0.000000   0.000000           0            0   \n",
      "2011-01-27   0.000000   0.000000   0.000000           0            0   \n",
      "2011-01-28   0.000000   0.000000   0.000000           0            0   \n",
      "2011-01-31  52.502000   0.000000   0.000000           0            0   \n",
      "...               ...        ...        ...         ...          ...   \n",
      "2023-04-06  14.266454  11.795481  13.139125           1            0   \n",
      "2023-04-07  14.287636  11.958998  13.482548           1            0   \n",
      "2023-04-10  13.901757  12.034546  13.735991           0            1   \n",
      "2023-04-11  13.674505  12.111027  13.965365           0            1   \n",
      "2023-04-12  13.616337  12.200638  14.183913           0            1   \n",
      "\n",
      "            dynamic_line  buy_signalv1  sell_signalv1  \n",
      "trade_date                                             \n",
      "2011-01-25      0.000000             0              0  \n",
      "2011-01-26      0.000000             0              0  \n",
      "2011-01-27      0.000000             0              0  \n",
      "2011-01-28      0.000000             0              0  \n",
      "2011-01-31      0.000000             0              0  \n",
      "...                  ...           ...            ...  \n",
      "2023-04-06      2.770174             0              1  \n",
      "2023-04-07      2.550077             0              1  \n",
      "2023-04-10      1.874560             0              1  \n",
      "2023-04-11      1.315212             0              1  \n",
      "2023-04-12      1.086270             0              1  \n",
      "\n",
      "[2740 rows x 45 columns]>\n"
     ]
    }
   ],
   "source": [
    "d = StockDataLoader('300166.SZ', '2000-01-01', f'{day}')\n",
    "res = d.get_all_stock_data()\n",
    "d.add_ema(res)\n",
    "d.add_leave_top(res)\n",
    "print(res.tail)\n"
   ]
  },
  {
   "cell_type": "code",
   "execution_count": 3,
   "metadata": {},
   "outputs": [
    {
     "data": {
      "text/plain": [
       "Index(['ts_code', 'trade_date', 'open', 'high', 'low', 'close', 'pre_close',\n",
       "       'pct_chg', 'change', 'vol', 'amount', 'turnover_rate',\n",
       "       'turnover_rate_f', 'volume_ratio', 'pe', 'pe_ttm', 'pb', 'ps',\n",
       "       'buy_sm_vol', 'buy_sm_amount', 'sell_sm_vol', 'sell_sm_amount',\n",
       "       'buy_md_vol', 'buy_md_amount', 'sell_md_vol', 'sell_md_amount',\n",
       "       'buy_lg_vol', 'buy_lg_amount', 'sell_lg_vol', 'sell_lg_amount',\n",
       "       'buy_elg_vol', 'buy_elg_amount', 'sell_elg_vol', 'sell_elg_amount',\n",
       "       'net_mf_vol', 'net_mf_amount', 'ema_2', 'ema_5', 'ema_30', 'ema42',\n",
       "       'buy_signal', 'sell_signal', 'dynamic_line', 'buy_signalv1',\n",
       "       'sell_signalv1'],\n",
       "      dtype='object')"
      ]
     },
     "execution_count": 3,
     "metadata": {},
     "output_type": "execute_result"
    }
   ],
   "source": [
    "res.columns"
   ]
  },
  {
   "cell_type": "code",
   "execution_count": null,
   "metadata": {},
   "outputs": [],
   "source": [
    "# 根据成交量完成逻辑\n",
    "res.to_csv('12.csv')"
   ]
  }
 ],
 "metadata": {
  "kernelspec": {
   "display_name": "smart",
   "language": "python",
   "name": "python3"
  },
  "language_info": {
   "codemirror_mode": {
    "name": "ipython",
    "version": 3
   },
   "file_extension": ".py",
   "mimetype": "text/x-python",
   "name": "python",
   "nbconvert_exporter": "python",
   "pygments_lexer": "ipython3",
   "version": "3.10.4"
  },
  "orig_nbformat": 4
 },
 "nbformat": 4,
 "nbformat_minor": 2
}
